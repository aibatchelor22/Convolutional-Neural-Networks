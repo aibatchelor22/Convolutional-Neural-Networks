{
 "cells": [
  {
   "cell_type": "code",
   "execution_count": 75,
   "metadata": {},
   "outputs": [],
   "source": [
    "# Importing the Keras libraries and packages\n",
    "from keras.models import Sequential\n",
    "from keras.layers import Conv2D\n",
    "from keras.layers import MaxPooling2D\n",
    "from keras.layers import Flatten\n",
    "from keras.layers import Dense"
   ]
  },
  {
   "cell_type": "code",
   "execution_count": 76,
   "metadata": {},
   "outputs": [],
   "source": [
    "classifier = Sequential()\n",
    "classifier.add(Conv2D(64, (3, 3), input_shape = (128, 128, 1), activation = 'relu'))\n",
    "classifier.add(Conv2D(32, kernel_size=3, activation='relu'))\n",
    "classifier.add(MaxPooling2D(pool_size = (2, 2)))\n",
    "classifier.add(Flatten())\n",
    "classifier.add(Dense(units = 128, activation = 'relu'))\n",
    "classifier.add(Dense(units = 1, activation = 'sigmoid'))\n",
    "classifier.compile(optimizer = 'adam', loss = 'binary_crossentropy', metrics = ['accuracy'])"
   ]
  },
  {
   "cell_type": "code",
   "execution_count": 77,
   "metadata": {},
   "outputs": [],
   "source": [
    "from keras.preprocessing.image import ImageDataGenerator\n",
    "train_datagen = ImageDataGenerator(rescale = 1./255,\n",
    "horizontal_flip = False)\n",
    "test_datagen = ImageDataGenerator(rescale = 1./255)"
   ]
  },
  {
   "cell_type": "code",
   "execution_count": 78,
   "metadata": {},
   "outputs": [
    {
     "name": "stdout",
     "output_type": "stream",
     "text": [
      "Found 512 images belonging to 2 classes.\n",
      "Found 128 images belonging to 2 classes.\n",
      "Epoch 1/5\n",
      "100/100 [==============================] - 551s 6s/step - loss: 0.2295 - acc: 0.9231 - val_loss: 0.0057 - val_acc: 1.0000\n",
      "Epoch 2/5\n",
      "100/100 [==============================] - 495s 5s/step - loss: 4.9884e-04 - acc: 1.0000 - val_loss: 0.0029 - val_acc: 1.0000\n",
      "Epoch 3/5\n",
      "100/100 [==============================] - 485s 5s/step - loss: 1.2044e-04 - acc: 1.0000 - val_loss: 0.0029 - val_acc: 1.0000\n",
      "Epoch 4/5\n",
      "100/100 [==============================] - 549s 5s/step - loss: 5.8688e-05 - acc: 1.0000 - val_loss: 0.0015 - val_acc: 1.0000\n",
      "Epoch 5/5\n",
      "100/100 [==============================] - 542s 5s/step - loss: 3.2102e-05 - acc: 1.0000 - val_loss: 0.0013 - val_acc: 1.0000\n"
     ]
    },
    {
     "data": {
      "text/plain": [
       "<keras.callbacks.History at 0x24cde087c18>"
      ]
     },
     "execution_count": 78,
     "metadata": {},
     "output_type": "execute_result"
    }
   ],
   "source": [
    "training_set = train_datagen.flow_from_directory('Al01PaintCx/training_set',\n",
    "target_size = (128, 128),\n",
    "batch_size = 32,\n",
    "color_mode='grayscale',\n",
    "class_mode = 'binary')\n",
    "test_set = test_datagen.flow_from_directory('Al01PaintCx/test_set',\n",
    "target_size = (128, 128),\n",
    "batch_size = 32,\n",
    "color_mode='grayscale',\n",
    "class_mode = 'binary')\n",
    "classifier.fit_generator(training_set,\n",
    "steps_per_epoch = 100,\n",
    "epochs = 5,\n",
    "validation_data = test_set,\n",
    "validation_steps = 100)"
   ]
  },
  {
   "cell_type": "code",
   "execution_count": 83,
   "metadata": {},
   "outputs": [
    {
     "data": {
      "text/plain": [
       "'defect'"
      ]
     },
     "execution_count": 83,
     "metadata": {},
     "output_type": "execute_result"
    }
   ],
   "source": [
    "# Part 3 - Making new predictions\n",
    "import numpy as np\n",
    "from keras.preprocessing import image\n",
    "test_image = image.load_img('Al01PaintCx/Defect/0321.tif', target_size = (128, 128), color_mode='grayscale')\n",
    "test_image = image.img_to_array(test_image)\n",
    "test_image = np.expand_dims(test_image, axis = 0)\n",
    "result = classifier.predict(test_image)\n",
    "training_set.class_indices\n",
    "if result[0][0] == 1:\n",
    "    prediction = 'defect'\n",
    "else:\n",
    "    prediction = 'nodefect'\n",
    "prediction"
   ]
  },
  {
   "cell_type": "code",
   "execution_count": 87,
   "metadata": {},
   "outputs": [
    {
     "name": "stdout",
     "output_type": "stream",
     "text": [
      "4/4 [==============================] - 5s 1s/step\n"
     ]
    }
   ],
   "source": [
    "eval_results = classifier.evaluate(test_set)"
   ]
  },
  {
   "cell_type": "code",
   "execution_count": 88,
   "metadata": {},
   "outputs": [
    {
     "name": "stdout",
     "output_type": "stream",
     "text": [
      "\n",
      "Loss, accuracy on test data: \n",
      "0.0013 100.00%\n"
     ]
    }
   ],
   "source": [
    "print(\"\\nLoss, accuracy on test data: \")\n",
    "print(\"%0.4f %0.2f%%\" % (eval_results[0], \\\n",
    "  eval_results[1]*100))"
   ]
  },
  {
   "cell_type": "code",
   "execution_count": 90,
   "metadata": {},
   "outputs": [
    {
     "name": "stdout",
     "output_type": "stream",
     "text": [
      "Found 512 images belonging to 2 classes.\n",
      "Found 128 images belonging to 2 classes.\n",
      "Epoch 1/5\n",
      "100/100 [==============================] - 518s 5s/step - loss: 0.2649 - acc: 0.9081 - val_loss: 0.4195 - val_acc: 0.8750\n",
      "Epoch 2/5\n",
      "100/100 [==============================] - 551s 6s/step - loss: 0.0113 - acc: 0.9975 - val_loss: 0.5133 - val_acc: 0.8750\n",
      "Epoch 3/5\n",
      "100/100 [==============================] - 477s 5s/step - loss: 6.2863e-04 - acc: 1.0000 - val_loss: 0.5719 - val_acc: 0.8750\n",
      "Epoch 4/5\n",
      "100/100 [==============================] - 503s 5s/step - loss: 2.9468e-04 - acc: 1.0000 - val_loss: 0.6214 - val_acc: 0.8750\n",
      "Epoch 5/5\n",
      "100/100 [==============================] - 453s 5s/step - loss: 1.8220e-04 - acc: 1.0000 - val_loss: 0.6430 - val_acc: 0.8750\n"
     ]
    },
    {
     "data": {
      "text/plain": [
       "<keras.callbacks.History at 0x24c892c15c0>"
      ]
     },
     "execution_count": 90,
     "metadata": {},
     "output_type": "execute_result"
    }
   ],
   "source": [
    "training_set = train_datagen.flow_from_directory('AL01GraphiteRing/AL01GraphiteRing/both_types_training_set',\n",
    "target_size = (128, 128),\n",
    "batch_size = 32,\n",
    "color_mode='grayscale',\n",
    "class_mode = 'binary')\n",
    "test_set = test_datagen.flow_from_directory('AL01GraphiteRing/AL01GraphiteRing/both_types_test_set',\n",
    "target_size = (128, 128),\n",
    "batch_size = 32,\n",
    "color_mode='grayscale',\n",
    "class_mode = 'binary')\n",
    "classifier.fit_generator(training_set,\n",
    "steps_per_epoch = 100,\n",
    "epochs = 5,\n",
    "validation_data = test_set,\n",
    "validation_steps = 100)"
   ]
  },
  {
   "cell_type": "code",
   "execution_count": null,
   "metadata": {},
   "outputs": [],
   "source": []
  }
 ],
 "metadata": {
  "kernelspec": {
   "display_name": "Python 3",
   "language": "python",
   "name": "python3"
  },
  "language_info": {
   "codemirror_mode": {
    "name": "ipython",
    "version": 3
   },
   "file_extension": ".py",
   "mimetype": "text/x-python",
   "name": "python",
   "nbconvert_exporter": "python",
   "pygments_lexer": "ipython3",
   "version": "3.6.5"
  }
 },
 "nbformat": 4,
 "nbformat_minor": 2
}
